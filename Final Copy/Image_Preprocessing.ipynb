{
  "nbformat": 4,
  "nbformat_minor": 0,
  "metadata": {
    "colab": {
      "provenance": []
    },
    "kernelspec": {
      "name": "python3",
      "display_name": "Python 3"
    },
    "language_info": {
      "name": "python"
    }
  },
  "cells": [
    {
      "cell_type": "markdown",
      "source": [
        "# Image Preprocessing"
      ],
      "metadata": {
        "id": "vzaP7j93HLAP"
      }
    },
    {
      "cell_type": "code",
      "source": [
        "from keras.preprocessing.image import ImageDataGenerator"
      ],
      "metadata": {
        "id": "c5D2zc90IYqe"
      },
      "execution_count": 2,
      "outputs": []
    },
    {
      "cell_type": "markdown",
      "source": [
        "# Configure ImageDataGenerator Class"
      ],
      "metadata": {
        "id": "PEHOtRFjIfxt"
      }
    },
    {
      "cell_type": "code",
      "source": [
        "train_datagen=ImageDataGenerator(rescale=1./255,shear_range=0.2,zoom_range=0.2,horizontal_flip=True)\n",
        "test_datagen = ImageDataGenerator(rescale=1./255)"
      ],
      "metadata": {
        "id": "XzTzInCyIe8N"
      },
      "execution_count": 3,
      "outputs": []
    },
    {
      "cell_type": "markdown",
      "source": [
        "# Apply ImageDataGenerator Functionality To TrainSet And TestSet"
      ],
      "metadata": {
        "id": "LQHNuo1vI02d"
      }
    },
    {
      "cell_type": "code",
      "source": [
        "x_train=train_datagen.flow_from_directory( '/content/Data Set/train',target_size=(64,64),batch_size=5,color_mode='grayscale',class_mode='categorical')\n",
        "x_test=test_datagen.flow_from_directory( '/content/Data Set/test',target_size=(64,64),batch_size=5,color_mode='grayscale',class_mode='categorical')"
      ],
      "metadata": {
        "colab": {
          "base_uri": "https://localhost:8080/",
          "height": 0
        },
        "id": "jUZnPSp1Ik7F",
        "outputId": "7bbeee27-ad92-45cc-f4fa-eabf387cea04"
      },
      "execution_count": 4,
      "outputs": [
        {
          "output_type": "stream",
          "name": "stdout",
          "text": [
            "Found 99 images belonging to 1 classes.\n",
            "Found 30 images belonging to 6 classes.\n"
          ]
        }
      ]
    }
  ]
}