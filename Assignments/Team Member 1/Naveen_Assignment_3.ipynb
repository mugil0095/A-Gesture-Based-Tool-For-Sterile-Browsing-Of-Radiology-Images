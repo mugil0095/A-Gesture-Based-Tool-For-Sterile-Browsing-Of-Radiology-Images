{
  "cells": [
    {
      "cell_type": "markdown",
      "metadata": {
        "id": "sI9rJMwLp_CU"
      },
      "source": [
        "#Unzipping\n"
      ]
    },
    {
      "cell_type": "code",
      "execution_count": null,
      "metadata": {
        "id": "8d8ZXymCYp1C"
      },
      "outputs": [],
      "source": [
        "#!unzip '/content/drive/MyDrive/Colab Notebooks/Flowers-Dataset.zip'"
      ]
    },
    {
      "cell_type": "markdown",
      "metadata": {
        "id": "11tAht67qKYT"
      },
      "source": [
        "#Image Augmentation"
      ]
    },
    {
      "cell_type": "code",
      "execution_count": null,
      "metadata": {
        "id": "wFCo978fqQ_5"
      },
      "outputs": [],
      "source": [
        "from tensorflow.keras.preprocessing.image import ImageDataGenerator \n",
        "\n",
        "train_gen = ImageDataGenerator(rescale=1./255,\n",
        "                               zoom_range=0.2,\n",
        "                               horizontal_flip=True)\n",
        "test_gen = ImageDataGenerator(rescale=1./255)"
      ]
    },
    {
      "cell_type": "code",
      "execution_count": null,
      "metadata": {
        "colab": {
          "base_uri": "https://localhost:8080/"
        },
        "id": "ap82a7nZ2fZY",
        "outputId": "7311f601-01e5-4147-ceab-0b9c6be4e2dd"
      },
      "outputs": [
        {
          "name": "stdout",
          "output_type": "stream",
          "text": [
            "Found 4317 images belonging to 5 classes.\n"
          ]
        }
      ],
      "source": [
        "xtrain = train_gen.flow_from_directory('/content/flowers',\n",
        "                                       target_size=(64,64),\n",
        "                                       class_mode='categorical',\n",
        "                                       batch_size=100)"
      ]
    },
    {
      "cell_type": "markdown",
      "metadata": {
        "id": "k53evRnyTysU"
      },
      "source": [
        "# Create Model"
      ]
    },
    {
      "cell_type": "code",
      "execution_count": null,
      "metadata": {
        "id": "NSPbiGtjGZ-s"
      },
      "outputs": [],
      "source": [
        "from tensorflow.keras.models import Sequential\n",
        "from tensorflow.keras.layers import Convolution2D, MaxPooling2D, Dense, Flatten\n",
        "from keras.callbacks import EarlyStopping, ReduceLROnPlateau"
      ]
    },
    {
      "cell_type": "code",
      "execution_count": null,
      "metadata": {
        "id": "ff2gHKMnJ_Y_"
      },
      "outputs": [],
      "source": [
        "model = Sequential()\n",
        "model.add(Convolution2D(32,(3,3),activation='relu',input_shape=(64,64,3)))\n",
        "model.add(MaxPooling2D((2,2)))\n",
        "model.add(Flatten())\n",
        "\n",
        "model.add(Dense(400,activation='relu'))\n",
        "model.add(Dense(200,activation='relu'))\n",
        "model.add(Dense(100,activation='relu'))\n",
        "model.add(Dense(5,activation='softmax'))"
      ]
    },
    {
      "cell_type": "markdown",
      "source": [
        "# Compile Model"
      ],
      "metadata": {
        "id": "A-RmRW-dQwSo"
      }
    },
    {
      "cell_type": "code",
      "execution_count": null,
      "metadata": {
        "id": "tHCcY86OMp0H"
      },
      "outputs": [],
      "source": [
        "model.compile(optimizer='adam',loss='categorical_crossentropy',metrics=['accuracy'])"
      ]
    },
    {
      "cell_type": "code",
      "execution_count": null,
      "metadata": {
        "id": "zk5tbxr1VWAx"
      },
      "outputs": [],
      "source": [
        "early_stopping = EarlyStopping(monitor='accuracy',\n",
        "                        patience=3)\n",
        "reduce_lr = ReduceLROnPlateau(monitor='accuracy',\n",
        "                        patience=5,\n",
        "                        factor=0.5,min_lr=0.00001)\n",
        "\n",
        "callback = [reduce_lr,early_stopping]"
      ]
    },
    {
      "cell_type": "markdown",
      "source": [
        "# Fit Model"
      ],
      "metadata": {
        "id": "sZkDnII0RK8v"
      }
    },
    {
      "cell_type": "code",
      "execution_count": null,
      "metadata": {
        "colab": {
          "base_uri": "https://localhost:8080/"
        },
        "id": "cBbTbsBXOoy8",
        "outputId": "917c96bd-950b-4457-9a9c-3768cd0d591c"
      },
      "outputs": [
        {
          "name": "stderr",
          "output_type": "stream",
          "text": [
            "/usr/local/lib/python3.7/dist-packages/ipykernel_launcher.py:4: UserWarning: `Model.fit_generator` is deprecated and will be removed in a future version. Please use `Model.fit`, which supports generators.\n",
            "  after removing the cwd from sys.path.\n"
          ]
        },
        {
          "name": "stdout",
          "output_type": "stream",
          "text": [
            "Epoch 1/100\n",
            "44/44 [==============================] - 31s 703ms/step - loss: 0.6074 - accuracy: 0.7751 - lr: 0.0010\n",
            "Epoch 2/100\n",
            "44/44 [==============================] - 31s 702ms/step - loss: 0.5491 - accuracy: 0.7973 - lr: 0.0010\n",
            "Epoch 3/100\n",
            "44/44 [==============================] - 31s 696ms/step - loss: 0.5417 - accuracy: 0.8043 - lr: 0.0010\n",
            "Epoch 4/100\n",
            "44/44 [==============================] - 31s 693ms/step - loss: 0.4930 - accuracy: 0.8156 - lr: 0.0010\n",
            "Epoch 5/100\n",
            "44/44 [==============================] - 31s 692ms/step - loss: 0.4616 - accuracy: 0.8293 - lr: 0.0010\n",
            "Epoch 6/100\n",
            "44/44 [==============================] - 31s 695ms/step - loss: 0.4350 - accuracy: 0.8392 - lr: 0.0010\n",
            "Epoch 7/100\n",
            "44/44 [==============================] - 31s 700ms/step - loss: 0.4190 - accuracy: 0.8469 - lr: 0.0010\n",
            "Epoch 8/100\n",
            "44/44 [==============================] - 31s 692ms/step - loss: 0.3975 - accuracy: 0.8568 - lr: 0.0010\n",
            "Epoch 9/100\n",
            "44/44 [==============================] - 31s 689ms/step - loss: 0.4207 - accuracy: 0.8432 - lr: 0.0010\n",
            "Epoch 10/100\n",
            "44/44 [==============================] - 31s 696ms/step - loss: 0.3674 - accuracy: 0.8687 - lr: 0.0010\n",
            "Epoch 11/100\n",
            "44/44 [==============================] - 31s 689ms/step - loss: 0.3267 - accuracy: 0.8888 - lr: 0.0010\n",
            "Epoch 12/100\n",
            "44/44 [==============================] - 31s 699ms/step - loss: 0.3255 - accuracy: 0.8877 - lr: 0.0010\n",
            "Epoch 13/100\n",
            "44/44 [==============================] - 31s 688ms/step - loss: 0.2975 - accuracy: 0.8999 - lr: 0.0010\n",
            "Epoch 14/100\n",
            "44/44 [==============================] - 31s 690ms/step - loss: 0.3144 - accuracy: 0.8927 - lr: 0.0010\n",
            "Epoch 15/100\n",
            "44/44 [==============================] - 31s 697ms/step - loss: 0.2544 - accuracy: 0.9120 - lr: 0.0010\n",
            "Epoch 16/100\n",
            "44/44 [==============================] - 31s 694ms/step - loss: 0.2986 - accuracy: 0.8939 - lr: 0.0010\n",
            "Epoch 17/100\n",
            "44/44 [==============================] - 31s 699ms/step - loss: 0.2570 - accuracy: 0.9097 - lr: 0.0010\n",
            "Epoch 18/100\n",
            "44/44 [==============================] - 31s 691ms/step - loss: 0.2282 - accuracy: 0.9205 - lr: 0.0010\n",
            "Epoch 19/100\n",
            "44/44 [==============================] - 31s 697ms/step - loss: 0.2180 - accuracy: 0.9226 - lr: 0.0010\n",
            "Epoch 20/100\n",
            "44/44 [==============================] - 31s 694ms/step - loss: 0.1995 - accuracy: 0.9314 - lr: 0.0010\n",
            "Epoch 21/100\n",
            "44/44 [==============================] - 31s 690ms/step - loss: 0.1805 - accuracy: 0.9340 - lr: 0.0010\n",
            "Epoch 22/100\n",
            "44/44 [==============================] - 31s 697ms/step - loss: 0.1986 - accuracy: 0.9307 - lr: 0.0010\n",
            "Epoch 23/100\n",
            "44/44 [==============================] - 31s 693ms/step - loss: 0.2023 - accuracy: 0.9287 - lr: 0.0010\n",
            "Epoch 24/100\n",
            "44/44 [==============================] - 31s 695ms/step - loss: 0.1646 - accuracy: 0.9465 - lr: 0.0010\n",
            "Epoch 25/100\n",
            "44/44 [==============================] - 31s 693ms/step - loss: 0.1727 - accuracy: 0.9407 - lr: 0.0010\n",
            "Epoch 26/100\n",
            "44/44 [==============================] - 32s 719ms/step - loss: 0.1285 - accuracy: 0.9569 - lr: 0.0010\n",
            "Epoch 27/100\n",
            "44/44 [==============================] - 31s 703ms/step - loss: 0.1705 - accuracy: 0.9400 - lr: 0.0010\n",
            "Epoch 28/100\n",
            "44/44 [==============================] - 31s 709ms/step - loss: 0.1531 - accuracy: 0.9439 - lr: 0.0010\n",
            "Epoch 29/100\n",
            "44/44 [==============================] - 32s 711ms/step - loss: 0.1413 - accuracy: 0.9539 - lr: 0.0010\n"
          ]
        },
        {
          "data": {
            "text/plain": [
              "<keras.callbacks.History at 0x7efc457f6e50>"
            ]
          },
          "execution_count": 42,
          "metadata": {},
          "output_type": "execute_result"
        }
      ],
      "source": [
        "model.fit_generator(xtrain,\n",
        "                    steps_per_epoch = len(xtrain),\n",
        "                    callbacks=callback,\n",
        "                    epochs=100)"
      ]
    },
    {
      "cell_type": "markdown",
      "source": [
        "# Save Model"
      ],
      "metadata": {
        "id": "Q42MqIb5RPGn"
      }
    },
    {
      "cell_type": "code",
      "execution_count": null,
      "metadata": {
        "id": "7xna1KHrP_gW"
      },
      "outputs": [],
      "source": [
        "model.save('flower_cnn.h5')"
      ]
    },
    {
      "cell_type": "markdown",
      "metadata": {
        "id": "cYMhtJAIQPMY"
      },
      "source": [
        "\n",
        "#Test"
      ]
    },
    {
      "cell_type": "code",
      "execution_count": null,
      "metadata": {
        "id": "HGuq9dspQSa7"
      },
      "outputs": [],
      "source": [
        "import numpy as np\n",
        "from tensorflow.keras.preprocessing import image"
      ]
    },
    {
      "cell_type": "code",
      "execution_count": null,
      "metadata": {
        "colab": {
          "base_uri": "https://localhost:8080/",
          "height": 81
        },
        "id": "Hse2zvysQ-CS",
        "outputId": "efafb9fd-ac8c-4111-93c7-b74ecaed4c99"
      },
      "outputs": [
        {
          "data": {
            "image/png": "[encoded data removed]",
            "text/plain": [
              "<PIL.Image.Image image mode=RGB size=64x64 at 0x7EFC46FC2510>"
            ]
          },
          "execution_count": 45,
          "metadata": {},
          "output_type": "execute_result"
        }
      ],
      "source": [
        "img = image.load_img('/content/test image.jpg',target_size=(64,64))\n",
        "img"
      ]
    },
    {
      "cell_type": "code",
      "execution_count": null,
      "metadata": {
        "colab": {
          "base_uri": "https://localhost:8080/"
        },
        "id": "Z2JBLoH8RMTS",
        "outputId": "f35bf58d-bcf5-45ba-d736-9cd5df5d0d46"
      },
      "outputs": [
        {
          "data": {
            "text/plain": [
              "array([[[1., 1., 1.],\n",
              "        [1., 1., 1.],\n",
              "        [1., 1., 1.],\n",
              "        ...,\n",
              "        [1., 1., 1.],\n",
              "        [1., 1., 1.],\n",
              "        [1., 1., 1.]],\n",
              "\n",
              "       [[1., 1., 1.],\n",
              "        [1., 1., 1.],\n",
              "        [1., 1., 1.],\n",
              "        ...,\n",
              "        [1., 1., 1.],\n",
              "        [1., 1., 1.],\n",
              "        [1., 1., 1.]],\n",
              "\n",
              "       [[1., 1., 1.],\n",
              "        [1., 1., 1.],\n",
              "        [1., 1., 1.],\n",
              "        ...,\n",
              "        [1., 1., 1.],\n",
              "        [1., 1., 1.],\n",
              "        [1., 1., 1.]],\n",
              "\n",
              "       ...,\n",
              "\n",
              "       [[1., 1., 1.],\n",
              "        [1., 1., 1.],\n",
              "        [1., 1., 1.],\n",
              "        ...,\n",
              "        [1., 1., 1.],\n",
              "        [1., 1., 1.],\n",
              "        [1., 1., 1.]],\n",
              "\n",
              "       [[1., 1., 1.],\n",
              "        [1., 1., 1.],\n",
              "        [1., 1., 1.],\n",
              "        ...,\n",
              "        [1., 1., 1.],\n",
              "        [1., 1., 1.],\n",
              "        [1., 1., 1.]],\n",
              "\n",
              "       [[1., 1., 1.],\n",
              "        [1., 1., 1.],\n",
              "        [1., 1., 1.],\n",
              "        ...,\n",
              "        [1., 1., 1.],\n",
              "        [1., 1., 1.],\n",
              "        [1., 1., 1.]]], dtype=float32)"
            ]
          },
          "execution_count": 46,
          "metadata": {},
          "output_type": "execute_result"
        }
      ],
      "source": [
        "h = image.img_to_array(img)\n",
        "h"
      ]
    },
    {
      "cell_type": "code",
      "execution_count": null,
      "metadata": {
        "colab": {
          "base_uri": "https://localhost:8080/"
        },
        "id": "GZ1cSOHIRijU",
        "outputId": "86434c11-6fdb-4a55-b332-fd72fa912069"
      },
      "outputs": [
        {
          "data": {
            "text/plain": [
              "array([[[[1., 1., 1.],\n",
              "         [1., 1., 1.],\n",
              "         [1., 1., 1.],\n",
              "         ...,\n",
              "         [1., 1., 1.],\n",
              "         [1., 1., 1.],\n",
              "         [1., 1., 1.]],\n",
              "\n",
              "        [[1., 1., 1.],\n",
              "         [1., 1., 1.],\n",
              "         [1., 1., 1.],\n",
              "         ...,\n",
              "         [1., 1., 1.],\n",
              "         [1., 1., 1.],\n",
              "         [1., 1., 1.]],\n",
              "\n",
              "        [[1., 1., 1.],\n",
              "         [1., 1., 1.],\n",
              "         [1., 1., 1.],\n",
              "         ...,\n",
              "         [1., 1., 1.],\n",
              "         [1., 1., 1.],\n",
              "         [1., 1., 1.]],\n",
              "\n",
              "        ...,\n",
              "\n",
              "        [[1., 1., 1.],\n",
              "         [1., 1., 1.],\n",
              "         [1., 1., 1.],\n",
              "         ...,\n",
              "         [1., 1., 1.],\n",
              "         [1., 1., 1.],\n",
              "         [1., 1., 1.]],\n",
              "\n",
              "        [[1., 1., 1.],\n",
              "         [1., 1., 1.],\n",
              "         [1., 1., 1.],\n",
              "         ...,\n",
              "         [1., 1., 1.],\n",
              "         [1., 1., 1.],\n",
              "         [1., 1., 1.]],\n",
              "\n",
              "        [[1., 1., 1.],\n",
              "         [1., 1., 1.],\n",
              "         [1., 1., 1.],\n",
              "         ...,\n",
              "         [1., 1., 1.],\n",
              "         [1., 1., 1.],\n",
              "         [1., 1., 1.]]]], dtype=float32)"
            ]
          },
          "execution_count": 47,
          "metadata": {},
          "output_type": "execute_result"
        }
      ],
      "source": [
        "h= np.expand_dims(h,axis= 0)\n",
        "h"
      ]
    },
    {
      "cell_type": "code",
      "execution_count": null,
      "metadata": {
        "colab": {
          "base_uri": "https://localhost:8080/"
        },
        "id": "8CaXUODIR0NZ",
        "outputId": "8ddf9ead-c329-403b-f4d3-620f33ad0319"
      },
      "outputs": [
        {
          "data": {
            "text/plain": [
              "['daisy', 'dandelion', 'rose', 'sunflower', 'tulip']"
            ]
          },
          "execution_count": 48,
          "metadata": {},
          "output_type": "execute_result"
        }
      ],
      "source": [
        "val = list(xtrain.class_indices.keys())\n",
        "val"
      ]
    },
    {
      "cell_type": "code",
      "execution_count": null,
      "metadata": {
        "colab": {
          "base_uri": "https://localhost:8080/",
          "height": 35
        },
        "id": "UYdP62c2RtrF",
        "outputId": "ce88fac4-bef3-4fef-c5a8-3e2f7b485e2d"
      },
      "outputs": [
        {
          "data": {
            "application/vnd.google.colaboratory.intrinsic+json": {
              "type": "string"
            },
            "text/plain": [
              "'rose'"
            ]
          },
          "execution_count": 49,
          "metadata": {},
          "output_type": "execute_result"
        }
      ],
      "source": [
        "val[np.argmax(model.predict(h))]"
      ]
    }
  ],
  "metadata": {
    "colab": {
      "collapsed_sections": [
        "sI9rJMwLp_CU"
      ],
      "provenance": []
    },
    "kernelspec": {
      "display_name": "Python 3",
      "name": "python3"
    },
    "language_info": {
      "name": "python"
    }
  },
  "nbformat": 4,
  "nbformat_minor": 0
}